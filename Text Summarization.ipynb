{
 "cells": [
  {
   "cell_type": "markdown",
   "id": "959f630d-f1de-4669-9111-eb7b87e46514",
   "metadata": {
    "tags": []
   },
   "source": [
    "# Project Name : Text Summarization\n",
    "# Author : Saravanan R\n",
    "# Submitted for : HCL Internship"
   ]
  },
  {
   "cell_type": "code",
   "execution_count": 1,
   "id": "0cc51c4b-8c2b-43ef-8985-96b1ea72f1c9",
   "metadata": {},
   "outputs": [
    {
     "name": "stderr",
     "output_type": "stream",
     "text": [
      "[nltk_data] Error loading wordnet: <urlopen error [Errno 8] nodename\n",
      "[nltk_data]     nor servname provided, or not known>\n",
      "[nltk_data] Error loading stopwords: <urlopen error [Errno 8] nodename\n",
      "[nltk_data]     nor servname provided, or not known>\n",
      "[nltk_data] Error loading punkt: <urlopen error [Errno 8] nodename nor\n",
      "[nltk_data]     servname provided, or not known>\n"
     ]
    },
    {
     "data": {
      "text/plain": [
       "'2.8.0'"
      ]
     },
     "execution_count": 1,
     "metadata": {},
     "output_type": "execute_result"
    }
   ],
   "source": [
    "#import all the required libraries\n",
    "import numpy as np\n",
    "import pandas as pd\n",
    "import pickle\n",
    "from statistics import mode\n",
    "import nltk\n",
    "from nltk import word_tokenize\n",
    "from nltk.stem import LancasterStemmer\n",
    "nltk.download('wordnet')\n",
    "nltk.download('stopwords')\n",
    "nltk.download('punkt')\n",
    "from nltk.corpus import stopwords\n",
    "from tensorflow.keras.models import Model\n",
    "from tensorflow.keras import models\n",
    "from tensorflow.keras import backend as K\n",
    "from tensorflow.keras.preprocessing.sequence import pad_sequences\n",
    "from tensorflow.keras.preprocessing.text import Tokenizer \n",
    "from tensorflow.keras.utils import plot_model\n",
    "from tensorflow.keras.layers import Input,LSTM,Embedding,Dense,Concatenate,Attention\n",
    "from sklearn.model_selection import train_test_split\n",
    "from bs4 import BeautifulSoup\n",
    "\n",
    "import warnings\n",
    "pd.set_option(\"display.max_colwidth\", 200)\n",
    "warnings.filterwarnings(\"ignore\")\n",
    "\n",
    "from tensorflow.keras.callbacks import EarlyStopping\n",
    "import tensorflow as tf\n",
    "tf.__version__"
   ]
  },
  {
   "cell_type": "markdown",
   "id": "6284918f-2bb8-4961-a577-b769611c5e89",
   "metadata": {},
   "source": [
    "# Importing Dataset - cnn_dailymail"
   ]
  },
  {
   "cell_type": "code",
   "execution_count": 2,
   "id": "be4fca6e-f08f-4071-a942-36c29b164ac1",
   "metadata": {},
   "outputs": [
    {
     "name": "stderr",
     "output_type": "stream",
     "text": [
      "Using the latest cached version of the module from /Users/tensorflow/.cache/huggingface/modules/datasets_modules/datasets/cnn_dailymail/3cb851bf7cf5826e45d49db2863f627cba583cbc32342df7349dfe6c38060234 (last modified on Mon Apr 11 23:08:30 2022) since it couldn't be found locally at cnn_dailymail., or remotely on the Hugging Face Hub.\n",
      "Reusing dataset cnn_dailymail (/Users/tensorflow/.cache/huggingface/datasets/cnn_dailymail/3.0.0/3.0.0/3cb851bf7cf5826e45d49db2863f627cba583cbc32342df7349dfe6c38060234)\n",
      "Using the latest cached version of the module from /Users/tensorflow/.cache/huggingface/modules/datasets_modules/datasets/cnn_dailymail/3cb851bf7cf5826e45d49db2863f627cba583cbc32342df7349dfe6c38060234 (last modified on Mon Apr 11 23:08:30 2022) since it couldn't be found locally at cnn_dailymail., or remotely on the Hugging Face Hub.\n",
      "Reusing dataset cnn_dailymail (/Users/tensorflow/.cache/huggingface/datasets/cnn_dailymail/3.0.0/3.0.0/3cb851bf7cf5826e45d49db2863f627cba583cbc32342df7349dfe6c38060234)\n",
      "Using the latest cached version of the module from /Users/tensorflow/.cache/huggingface/modules/datasets_modules/datasets/cnn_dailymail/3cb851bf7cf5826e45d49db2863f627cba583cbc32342df7349dfe6c38060234 (last modified on Mon Apr 11 23:08:30 2022) since it couldn't be found locally at cnn_dailymail., or remotely on the Hugging Face Hub.\n",
      "Reusing dataset cnn_dailymail (/Users/tensorflow/.cache/huggingface/datasets/cnn_dailymail/3.0.0/3.0.0/3cb851bf7cf5826e45d49db2863f627cba583cbc32342df7349dfe6c38060234)\n"
     ]
    }
   ],
   "source": [
    "import datasets\n",
    "train_data = datasets.load_dataset(\"cnn_dailymail\", \"3.0.0\", split=\"train\")\n",
    "val_data = datasets.load_dataset(\"cnn_dailymail\", \"3.0.0\", split=\"validation\")\n",
    "test_data = datasets.load_dataset(\"cnn_dailymail\", \"3.0.0\", split=\"test\")"
   ]
  },
  {
   "cell_type": "code",
   "execution_count": 3,
   "id": "d43fe2fc-bdc9-4e53-a3f0-f694580be340",
   "metadata": {},
   "outputs": [
    {
     "data": {
      "text/plain": [
       "{'article': 'It\\'s official: U.S. President Barack Obama wants lawmakers to weigh in on whether to use military force in Syria. Obama sent a letter to the heads of the House and Senate on Saturday night, hours after announcing that he believes military action against Syrian targets is the right step to take over the alleged use of chemical weapons. The proposed legislation from Obama asks Congress to approve the use of military force \"to deter, disrupt, prevent and degrade the potential for future uses of chemical weapons or other weapons of mass destruction.\" It\\'s a step that is set to turn an international crisis into a fierce domestic political battle. There are key questions looming over the debate: What did U.N. weapons inspectors find in Syria? What happens if Congress votes no? And how will the Syrian government react? In a televised address from the White House Rose Garden earlier Saturday, the president said he would take his case to Congress, not because he has to -- but because he wants to. \"While I believe I have the authority to carry out this military action without specific congressional authorization, I know that the country will be stronger if we take this course, and our actions will be even more effective,\" he said. \"We should have this debate, because the issues are too big for business as usual.\" Obama said top congressional leaders had agreed to schedule a debate when the body returns to Washington on September 9. The Senate Foreign Relations Committee will hold a hearing over the matter on Tuesday, Sen. Robert Menendez said. Transcript: Read Obama\\'s full remarks . Syrian crisis: Latest developments . U.N. inspectors leave Syria . Obama\\'s remarks came shortly after U.N. inspectors left Syria, carrying evidence that will determine whether chemical weapons were used in an attack early last week in a Damascus suburb. \"The aim of the game here, the mandate, is very clear -- and that is to ascertain whether chemical weapons were used -- and not by whom,\" U.N. spokesman Martin Nesirky told reporters on Saturday. But who used the weapons in the reported toxic gas attack in a Damascus suburb on August 21 has been a key point of global debate over the Syrian crisis. Top U.S. officials have said there\\'s no doubt that the Syrian government was behind it, while Syrian officials have denied responsibility and blamed jihadists fighting with the rebels. British and U.S. intelligence reports say the attack involved chemical weapons, but U.N. officials have stressed the importance of waiting for an official report from inspectors. The inspectors will share their findings with U.N. Secretary-General Ban Ki-moon Ban, who has said he wants to wait until the U.N. team\\'s final report is completed before presenting it to the U.N. Security Council. The Organization for the Prohibition of Chemical Weapons, which nine of the inspectors belong to, said Saturday that it could take up to three weeks to analyze the evidence they collected. \"It needs time to be able to analyze the information and the samples,\" Nesirky said. He noted that Ban has repeatedly said there is no alternative to a political solution to the crisis in Syria, and that \"a military solution is not an option.\" Bergen:  Syria is a problem from hell for the U.S. Obama: \\'This menace must be confronted\\' Obama\\'s senior advisers have debated the next steps to take, and the president\\'s comments Saturday came amid mounting political pressure over the situation in Syria. Some U.S. lawmakers have called for immediate action while others warn of stepping into what could become a quagmire. Some global leaders have expressed support, but the British Parliament\\'s vote against military action earlier this week was a blow to Obama\\'s hopes of getting strong backing from key NATO allies. On Saturday, Obama proposed what he said would be a limited military action against Syrian President Bashar al-Assad. Any military attack would not be open-ended or include U.S. ground forces, he said. Syria\\'s alleged use of chemical weapons earlier this month \"is an assault on human dignity,\" the president said. A failure to respond with force, Obama argued,  \"could lead to escalating use of chemical weapons or their proliferation to terrorist groups who would do our people harm. In a world with many dangers, this menace must be confronted.\" Syria missile strike: What would happen next? Map: U.S. and allied assets around Syria . Obama decision came Friday night . On Friday night, the president made a last-minute decision to consult lawmakers. What will happen if they vote no? It\\'s unclear. A senior administration official told CNN that Obama has the authority to act without Congress -- even if Congress rejects his request for authorization to use force. Obama on Saturday continued to shore up support for a strike on the al-Assad government. He spoke by phone with French President Francois Hollande before his Rose Garden speech. \"The two leaders agreed that the international community must deliver a resolute message to the Assad regime -- and others who would consider using chemical weapons -- that these crimes are unacceptable and those who violate this international norm will be held accountable by the world,\" the White House said. Meanwhile, as uncertainty loomed over how Congress would weigh in, U.S. military officials said they remained at the ready. 5 key assertions: U.S. intelligence report on Syria . Syria: Who wants what after chemical weapons horror . Reactions mixed to Obama\\'s speech . A spokesman for the Syrian National Coalition said that the opposition group was disappointed by Obama\\'s announcement. \"Our fear now is that the lack of action could embolden the regime and they repeat his attacks in a more serious way,\" said spokesman Louay Safi. \"So we are quite concerned.\" Some members of Congress applauded Obama\\'s decision. House Speaker John Boehner, Majority Leader Eric Cantor, Majority Whip Kevin McCarthy and Conference Chair Cathy McMorris Rodgers issued a statement Saturday praising the president. \"Under the Constitution, the responsibility to declare war lies with Congress,\" the Republican lawmakers said. \"We are glad the president is seeking authorization for any military action in Syria in response to serious, substantive questions being raised.\" More than 160 legislators, including 63 of Obama\\'s fellow Democrats, had signed letters calling for either a vote or at least a \"full debate\" before any U.S. action. British Prime Minister David Cameron, whose own attempt to get lawmakers in his country to support military action in Syria failed earlier this week, responded to Obama\\'s speech in a Twitter post Saturday. \"I understand and support Barack Obama\\'s position on Syria,\" Cameron said. An influential lawmaker in Russia -- which has stood by Syria and criticized the United States -- had his own theory. \"The main reason Obama is turning to the Congress:  the military operation did not get enough support either in the world, among allies of the US or in the United States itself,\" Alexei Pushkov, chairman of the international-affairs committee of the Russian State Duma, said in a Twitter post. In the United States, scattered groups of anti-war protesters around the country took to the streets Saturday. \"Like many other Americans...we\\'re just tired of the United States getting involved and invading and bombing other countries,\" said Robin Rosecrans, who was among hundreds at a Los Angeles demonstration. What do Syria\\'s neighbors think? Why Russia, China, Iran stand by Assad . Syria\\'s government unfazed . After Obama\\'s speech, a military and political analyst on Syrian state TV said Obama is \"embarrassed\" that Russia opposes military action against Syria, is \"crying for help\" for someone to come to his rescue and is facing two defeats -- on the political and military levels. Syria\\'s prime minister appeared unfazed by the saber-rattling. \"The Syrian Army\\'s status is on maximum readiness and fingers are on the trigger to confront all challenges,\" Wael Nader al-Halqi said during a meeting with a delegation of Syrian expatriates from Italy, according to a banner on Syria State TV that was broadcast prior to Obama\\'s address. An anchor on Syrian state television said Obama \"appeared to be preparing for an aggression on Syria based on repeated lies.\" A top Syrian diplomat told the state television network that Obama was facing pressure to take military action from Israel, Turkey, some Arabs and right-wing extremists in the United States. \"I think he has done well by doing what Cameron did in terms of taking the issue to Parliament,\" said Bashar Jaafari, Syria\\'s ambassador to the United Nations. Both Obama and Cameron, he said, \"climbed to the top of the tree and don\\'t know how to get down.\" The Syrian government has denied that it used chemical weapons in the August 21 attack, saying that jihadists fighting with the rebels used them in an effort to turn global sentiments against it. British intelligence had put the number of people killed in the attack at more than 350. On Saturday, Obama said \"all told, well over 1,000 people were murdered.\" U.S. Secretary of State John Kerry on Friday cited a death toll of 1,429, more than 400 of them children. No explanation was offered for the discrepancy. Iran: U.S. military action in Syria would spark \\'disaster\\' Opinion: Why strikes in Syria are a bad idea .',\n",
       " 'highlights': 'Syrian official: Obama climbed to the top of the tree, \"doesn\\'t know how to get down\"\\nObama sends a letter to the heads of the House and Senate .\\nObama to seek congressional approval on military action against Syria .\\nAim is to determine whether CW were used, not by whom, says U.N. spokesman .',\n",
       " 'id': '0001d1afc246a7964130f43ae940af6bc6c57f01'}"
      ]
     },
     "execution_count": 3,
     "metadata": {},
     "output_type": "execute_result"
    }
   ],
   "source": [
    "train_data[0]"
   ]
  },
  {
   "cell_type": "markdown",
   "id": "14ba6cbb-fb0e-46c6-90ad-712425c02e6a",
   "metadata": {},
   "source": [
    "# Data Visualization"
   ]
  },
  {
   "cell_type": "markdown",
   "id": "0a5f67b4-8d13-4303-a3c7-3f85866d2d69",
   "metadata": {},
   "source": [
    "## Creating DataFrames"
   ]
  },
  {
   "cell_type": "code",
   "execution_count": 88,
   "id": "92470771-8da3-401e-a896-46e6b8e454c3",
   "metadata": {},
   "outputs": [
    {
     "data": {
      "text/html": [
       "<div>\n",
       "<style scoped>\n",
       "    .dataframe tbody tr th:only-of-type {\n",
       "        vertical-align: middle;\n",
       "    }\n",
       "\n",
       "    .dataframe tbody tr th {\n",
       "        vertical-align: top;\n",
       "    }\n",
       "\n",
       "    .dataframe thead th {\n",
       "        text-align: right;\n",
       "    }\n",
       "</style>\n",
       "<table border=\"1\" class=\"dataframe\">\n",
       "  <thead>\n",
       "    <tr style=\"text-align: right;\">\n",
       "      <th></th>\n",
       "      <th>text</th>\n",
       "      <th>summary</th>\n",
       "    </tr>\n",
       "  </thead>\n",
       "  <tbody>\n",
       "    <tr>\n",
       "      <th>0</th>\n",
       "      <td>It's official: U.S. President Barack Obama wants lawmakers to weigh in on whether to use military force in Syria. Obama sent a letter to the heads of the House and Senate on Saturday night, hours ...</td>\n",
       "      <td>Syrian official: Obama climbed to the top of the tree, \"doesn't know how to get down\"\\nObama sends a letter to the heads of the House and Senate .\\nObama to seek congressional approval on military...</td>\n",
       "    </tr>\n",
       "    <tr>\n",
       "      <th>1</th>\n",
       "      <td>(CNN) -- Usain Bolt rounded off the world championships Sunday by claiming his third gold in Moscow as he anchored Jamaica to victory in the men's 4x100m relay. The fastest man in the world charge...</td>\n",
       "      <td>Usain Bolt wins third gold of world championship .\\nAnchors Jamaica to 4x100m relay victory .\\nEighth gold at the championships for Bolt .\\nJamaica double up in women's 4x100m relay .</td>\n",
       "    </tr>\n",
       "    <tr>\n",
       "      <th>2</th>\n",
       "      <td>Kansas City, Missouri (CNN) -- The General Services Administration, already under investigation for lavish spending, allowed an employee to telecommute from Hawaii even though he is based at the G...</td>\n",
       "      <td>The employee in agency's Kansas City office is among hundreds of \"virtual\" workers .\\nThe employee's travel to and from the mainland U.S. last year cost more than $24,000 .\\nThe telecommuting prog...</td>\n",
       "    </tr>\n",
       "    <tr>\n",
       "      <th>3</th>\n",
       "      <td>Los Angeles (CNN) -- A medical doctor in Vancouver, British Columbia, said Thursday that California arson suspect Harry Burkhart suffered from severe mental illness in 2010, when she examined him ...</td>\n",
       "      <td>NEW: A Canadian doctor says she was part of a team examining Harry Burkhart in 2010 .\\nNEW: Diagnosis: \"autism, severe anxiety, post-traumatic stress disorder and depression\"\\nBurkhart is also sus...</td>\n",
       "    </tr>\n",
       "    <tr>\n",
       "      <th>4</th>\n",
       "      <td>(CNN) -- Police arrested another teen Thursday, the sixth suspect jailed in connection with the gang rape of a 15-year-old girl on a northern California high school campus. Jose Carlos Montano, 18...</td>\n",
       "      <td>Another arrest made in gang rape outside California school .\\nInvestigators say up to 20 people took part or stood and watched the assault .\\nFour suspects appeared in court Thursday; three wore b...</td>\n",
       "    </tr>\n",
       "  </tbody>\n",
       "</table>\n",
       "</div>"
      ],
      "text/plain": [
       "                                                                                                                                                                                                      text  \\\n",
       "0  It's official: U.S. President Barack Obama wants lawmakers to weigh in on whether to use military force in Syria. Obama sent a letter to the heads of the House and Senate on Saturday night, hours ...   \n",
       "1  (CNN) -- Usain Bolt rounded off the world championships Sunday by claiming his third gold in Moscow as he anchored Jamaica to victory in the men's 4x100m relay. The fastest man in the world charge...   \n",
       "2  Kansas City, Missouri (CNN) -- The General Services Administration, already under investigation for lavish spending, allowed an employee to telecommute from Hawaii even though he is based at the G...   \n",
       "3  Los Angeles (CNN) -- A medical doctor in Vancouver, British Columbia, said Thursday that California arson suspect Harry Burkhart suffered from severe mental illness in 2010, when she examined him ...   \n",
       "4  (CNN) -- Police arrested another teen Thursday, the sixth suspect jailed in connection with the gang rape of a 15-year-old girl on a northern California high school campus. Jose Carlos Montano, 18...   \n",
       "\n",
       "                                                                                                                                                                                                   summary  \n",
       "0  Syrian official: Obama climbed to the top of the tree, \"doesn't know how to get down\"\\nObama sends a letter to the heads of the House and Senate .\\nObama to seek congressional approval on military...  \n",
       "1                  Usain Bolt wins third gold of world championship .\\nAnchors Jamaica to 4x100m relay victory .\\nEighth gold at the championships for Bolt .\\nJamaica double up in women's 4x100m relay .  \n",
       "2  The employee in agency's Kansas City office is among hundreds of \"virtual\" workers .\\nThe employee's travel to and from the mainland U.S. last year cost more than $24,000 .\\nThe telecommuting prog...  \n",
       "3  NEW: A Canadian doctor says she was part of a team examining Harry Burkhart in 2010 .\\nNEW: Diagnosis: \"autism, severe anxiety, post-traumatic stress disorder and depression\"\\nBurkhart is also sus...  \n",
       "4  Another arrest made in gang rape outside California school .\\nInvestigators say up to 20 people took part or stood and watched the assault .\\nFour suspects appeared in court Thursday; three wore b...  "
      ]
     },
     "execution_count": 88,
     "metadata": {},
     "output_type": "execute_result"
    }
   ],
   "source": [
    "df = pd.DataFrame()\n",
    "\n",
    "df[\"text\"] = train_data['article'][:10000]\n",
    "df['summary'] = train_data['highlights'][:10000]\n",
    "\n",
    "df.head()"
   ]
  },
  {
   "cell_type": "code",
   "execution_count": 89,
   "id": "9e4c7cfc-2df8-42d8-8f37-ee2870531cc9",
   "metadata": {},
   "outputs": [
    {
     "data": {
      "text/plain": [
       "<bound method DataFrame.info of                                                                                                                                                                                                          text  \\\n",
       "0     (CNN)Singer-songwriter David Crosby hit a jogger with his car Sunday evening, a spokesman said. The accident happened in Santa Ynez, California, near where Crosby lives. Crosby was driving at appr...   \n",
       "1     (CNN)Sigma Alpha Epsilon is under fire for a video showing party-bound fraternity members singing a racist chant. SAE's national chapter suspended the students, but University of Oklahoma Presiden...   \n",
       "2     (CNN)I'm Candida Moss and I am professor of New Testament and Early Christianity at the University of Notre Dame. I was an adviser on the \"True Cross\" episode and served as one of the many on-came...   \n",
       "3     (CNN)Ferguson is crumbling. The cowardly and reprehensible shooting Wednesday night of two police officers came in a tumultuous seven days for the Missouri town, which had already seen Ferguson Po...   \n",
       "4     Coral Gables, Florida (CNN)Former President Bill Clinton on Saturday defended his family foundation's practice of taking money from foreign countries, arguing that while he doesn't agree with all ...   \n",
       "...                                                                                                                                                                                                       ...   \n",
       "4995  Possible Republican presidential candidate Lindsey Graham, the senior senator from South Carolina, is apologizing for a jab he made about House Democratic leader Nancy Pelosi following Israeli Pri...   \n",
       "4996  A pet pig who lives in a pub with her owners has been banned from the bar after she started stealing pints and headbutting customers. The micro-pig, who goes by the name of Frances Bacon, eats, sl...   \n",
       "4997  Kevin Pietersen is eyeing a return to the England international fold ahead of the Ashes in the summer but he took time to enjoy himself behind enemy lines after the World Cup final on Sunday. Aust...   \n",
       "4998  The White House said on Wednesday that it doesn't care that Hillary Clinton deleted emails she says were personal and not in any way related to her work at the State Department. Nor did federal of...   \n",
       "4999  Interest rates are unlikely to rise until the middle of next year as the Bank of England tries to stave off a deflationary spiral, economists said last night. Official figures revealed the inflati...   \n",
       "\n",
       "                                                                                                                                                                                                      summary  \n",
       "0                                       Accident happens in Santa Ynez, California, near where Crosby lives .\\nThe jogger suffered multiple fractures; his injuries are not believed to be life-threatening .  \n",
       "1                                            Sigma Alpha Epsilon is being tossed out by the University of Oklahoma .\\nIt's also run afoul of officials at Yale, Stanford and Johns Hopkins in recent months .  \n",
       "2              Religion professor Candida Moss appears in each episode of the program .\\nMoss was part of the original study to determine if relics found in Bulgaria could be the bones of John the Baptist.  \n",
       "3                                                                                          Two police officers were shot Wednesday in Ferguson .\\nHank Johnson, Michael Shank: Policing style needs rethink .  \n",
       "4                                                                            Clinton Foundation has taken money from foreign governments .\\nBill Clinton:  \"I believe we have done a lot more good than harm\"  \n",
       "...                                                                                                                                                                                                       ...  \n",
       "4995  Pelosi appeared less than enthused as Netanyahu asked Congress not to approve the nuclear deal the Obama administration is negotiating with Iran .\\nAfterward, Pelosi said she 'was near tears' thro...  \n",
       "4996  Micro-pig eats, sleeps and drinks at owner's pub in West Norwood,  London .\\nBut she soon started finishing off the dregs from customers' pint glasses .\\nLandlords only realised when she started b...  \n",
       "4997  Australia beat New Zealand by seven wickets in the World Cup final .\\nKevin Pietersen joined Australia's celebrations at the MCG .\\nHe uploaded a picture to Twitter alongside Australia's James Fau...  \n",
       "4998  White House said on Wednesday that it's 'not particularly' concerned that Hillary Clinton deleted emails she says were personal .\\nPresident's top spokesman revealed that the executive branch did ...  \n",
       "4999  Consumer Prices Index falls to 0%, meaning prices did not rise in a year .\\nSharp falls in food and petrol costs helped to ease the pressure on families .\\nDavid Cameron tells MailOnline it is 'mo...  \n",
       "\n",
       "[5000 rows x 2 columns]>"
      ]
     },
     "execution_count": 89,
     "metadata": {},
     "output_type": "execute_result"
    }
   ],
   "source": [
    "val = pd.DataFrame()\n",
    "\n",
    "val[\"text\"] = val_data['article'][:5000]\n",
    "val['summary'] = val_data['highlights'][:5000]\n",
    "\n",
    "val.head()\n",
    "val.info"
   ]
  },
  {
   "cell_type": "code",
   "execution_count": 90,
   "id": "4d5d3a44-64da-4e7e-844d-bb4756c7cad2",
   "metadata": {},
   "outputs": [
    {
     "data": {
      "text/html": [
       "<div>\n",
       "<style scoped>\n",
       "    .dataframe tbody tr th:only-of-type {\n",
       "        vertical-align: middle;\n",
       "    }\n",
       "\n",
       "    .dataframe tbody tr th {\n",
       "        vertical-align: top;\n",
       "    }\n",
       "\n",
       "    .dataframe thead th {\n",
       "        text-align: right;\n",
       "    }\n",
       "</style>\n",
       "<table border=\"1\" class=\"dataframe\">\n",
       "  <thead>\n",
       "    <tr style=\"text-align: right;\">\n",
       "      <th></th>\n",
       "      <th>text</th>\n",
       "      <th>summary</th>\n",
       "    </tr>\n",
       "  </thead>\n",
       "  <tbody>\n",
       "    <tr>\n",
       "      <th>0</th>\n",
       "      <td>(CNN)James Best, best known for his portrayal of bumbling sheriff Rosco P. Coltrane on TV's \"The Dukes of Hazzard,\" died Monday after a brief illness. He was 88. Best died in hospice in Hickory, N...</td>\n",
       "      <td>James Best, who played the sheriff on \"The Dukes of Hazzard,\" died Monday at 88 .\\n\"Hazzard\" ran from 1979 to 1985 and was among the most popular shows on TV .</td>\n",
       "    </tr>\n",
       "    <tr>\n",
       "      <th>1</th>\n",
       "      <td>(CNN)The attorney for a suburban New York cardiologist charged in what authorities say was a failed scheme to have another physician hurt or killed is calling the allegations against his client \"c...</td>\n",
       "      <td>A lawyer for Dr. Anthony Moschetto says the charges against him are baseless .\\nMoschetto, 54, was arrested for selling drugs and weapons, prosecutors say .\\nAuthorities allege Moschetto hired acc...</td>\n",
       "    </tr>\n",
       "    <tr>\n",
       "      <th>2</th>\n",
       "      <td>(CNN)President Barack Obama took part in a roundtable discussion this week on climate change, refocusing on the issue from a public health vantage point. After the event at Washington's Howard Uni...</td>\n",
       "      <td>\"No challenge poses more of a public threat than climate change,\" the President says .\\nHe credits the Clean Air Act with making Americans \"a lot\" healthier .</td>\n",
       "    </tr>\n",
       "    <tr>\n",
       "      <th>3</th>\n",
       "      <td>Moscow (CNN)A Russian TV channel aired Hillary Clinton's first campaign video with a rating stamp that means it's for mature audiences, because of fears it might run afoul of the country's anti-ga...</td>\n",
       "      <td>Presidential hopeful's video, featuring gay couple, gets mature rating in Russia .\\nRussian TV channel feared airing it would break the country's anti-gay propaganda law .\\nClinton announced her s...</td>\n",
       "    </tr>\n",
       "    <tr>\n",
       "      <th>4</th>\n",
       "      <td>(CNN)Marco Rubio is all in.  The Republican senator from Florida has announced that he is seeking the Republican presidential nomination, running on an optimistic message that he embodies the prom...</td>\n",
       "      <td>Raul Reyes: In seeking Latino vote, Marco Rubio his own worst enemy on two key issues: immigration reform, Cuba relations .\\nHe says on health care, climate change and other issues, he breaks from...</td>\n",
       "    </tr>\n",
       "  </tbody>\n",
       "</table>\n",
       "</div>"
      ],
      "text/plain": [
       "                                                                                                                                                                                                      text  \\\n",
       "0  (CNN)James Best, best known for his portrayal of bumbling sheriff Rosco P. Coltrane on TV's \"The Dukes of Hazzard,\" died Monday after a brief illness. He was 88. Best died in hospice in Hickory, N...   \n",
       "1  (CNN)The attorney for a suburban New York cardiologist charged in what authorities say was a failed scheme to have another physician hurt or killed is calling the allegations against his client \"c...   \n",
       "2  (CNN)President Barack Obama took part in a roundtable discussion this week on climate change, refocusing on the issue from a public health vantage point. After the event at Washington's Howard Uni...   \n",
       "3  Moscow (CNN)A Russian TV channel aired Hillary Clinton's first campaign video with a rating stamp that means it's for mature audiences, because of fears it might run afoul of the country's anti-ga...   \n",
       "4  (CNN)Marco Rubio is all in.  The Republican senator from Florida has announced that he is seeking the Republican presidential nomination, running on an optimistic message that he embodies the prom...   \n",
       "\n",
       "                                                                                                                                                                                                   summary  \n",
       "0                                          James Best, who played the sheriff on \"The Dukes of Hazzard,\" died Monday at 88 .\\n\"Hazzard\" ran from 1979 to 1985 and was among the most popular shows on TV .  \n",
       "1  A lawyer for Dr. Anthony Moschetto says the charges against him are baseless .\\nMoschetto, 54, was arrested for selling drugs and weapons, prosecutors say .\\nAuthorities allege Moschetto hired acc...  \n",
       "2                                           \"No challenge poses more of a public threat than climate change,\" the President says .\\nHe credits the Clean Air Act with making Americans \"a lot\" healthier .  \n",
       "3  Presidential hopeful's video, featuring gay couple, gets mature rating in Russia .\\nRussian TV channel feared airing it would break the country's anti-gay propaganda law .\\nClinton announced her s...  \n",
       "4  Raul Reyes: In seeking Latino vote, Marco Rubio his own worst enemy on two key issues: immigration reform, Cuba relations .\\nHe says on health care, climate change and other issues, he breaks from...  "
      ]
     },
     "execution_count": 90,
     "metadata": {},
     "output_type": "execute_result"
    }
   ],
   "source": [
    "test = pd.DataFrame()\n",
    "\n",
    "test[\"text\"] = test_data['article']\n",
    "test['summary'] = test_data['highlights']\n",
    "\n",
    "test.head()"
   ]
  },
  {
   "cell_type": "code",
   "execution_count": 91,
   "id": "50a2181e-481b-4393-a4b1-c6f6be6c14aa",
   "metadata": {},
   "outputs": [
    {
     "name": "stdout",
     "output_type": "stream",
     "text": [
      "<class 'pandas.core.frame.DataFrame'>\n",
      "RangeIndex: 10000 entries, 0 to 9999\n",
      "Data columns (total 2 columns):\n",
      " #   Column   Non-Null Count  Dtype \n",
      "---  ------   --------------  ----- \n",
      " 0   text     10000 non-null  object\n",
      " 1   summary  10000 non-null  object\n",
      "dtypes: object(2)\n",
      "memory usage: 156.4+ KB\n"
     ]
    }
   ],
   "source": [
    "df.info()"
   ]
  },
  {
   "cell_type": "code",
   "execution_count": 92,
   "id": "c93f6a68-3655-4968-8897-bba9d1d86b21",
   "metadata": {},
   "outputs": [
    {
     "data": {
      "text/plain": [
       "0    It's official: U.S. President Barack Obama wants lawmakers to weigh in on whether to use military force in Syria. Obama sent a letter to the heads of the House and Senate on Saturday night, hours ...\n",
       "1    (CNN) -- Usain Bolt rounded off the world championships Sunday by claiming his third gold in Moscow as he anchored Jamaica to victory in the men's 4x100m relay. The fastest man in the world charge...\n",
       "2    Kansas City, Missouri (CNN) -- The General Services Administration, already under investigation for lavish spending, allowed an employee to telecommute from Hawaii even though he is based at the G...\n",
       "3    Los Angeles (CNN) -- A medical doctor in Vancouver, British Columbia, said Thursday that California arson suspect Harry Burkhart suffered from severe mental illness in 2010, when she examined him ...\n",
       "4    (CNN) -- Police arrested another teen Thursday, the sixth suspect jailed in connection with the gang rape of a 15-year-old girl on a northern California high school campus. Jose Carlos Montano, 18...\n",
       "5    (CNN) -- Thousands on Saturday fled the area in southwestern Ivory Coast where attacks left seven U.N. peacekeepers and eight civilians dead, according to a U.N. official. One attack occurred late...\n",
       "6    (CNN) -- Four groups that advocate for immigrant rights said Thursday they will challenge Arizona's new immigration law, which allows police to ask anyone for proof of legal U.S. residency. The Me...\n",
       "7    While Labor Day is the unofficial end of summer, it's also the unofficial start to the campaign season. That means politicking will be on the rise, especially as control of the Senate is at stake ...\n",
       "8    Gaza City (CNN) -- An Italian humanitarian activist and journalist who was kidnapped in Gaza has been found dead and one person is in custody, the Hamas Interior Ministry said Friday in a statemen...\n",
       "9    (CNN) -- Renowned radio personality Casey Kasem is in critical condition at a hospital in western Washington, a spokesman for St. Anthony Hospital told CNN in a written statement Thursday. \"Mr. Ka...\n",
       "Name: text, dtype: object"
      ]
     },
     "execution_count": 92,
     "metadata": {},
     "output_type": "execute_result"
    }
   ],
   "source": [
    "df['text'][:10]"
   ]
  },
  {
   "cell_type": "code",
   "execution_count": 93,
   "id": "46843085-f110-40c8-a7aa-7a64a326a7c5",
   "metadata": {},
   "outputs": [
    {
     "data": {
      "text/plain": [
       "0    Syrian official: Obama climbed to the top of the tree, \"doesn't know how to get down\"\\nObama sends a letter to the heads of the House and Senate .\\nObama to seek congressional approval on military...\n",
       "1                    Usain Bolt wins third gold of world championship .\\nAnchors Jamaica to 4x100m relay victory .\\nEighth gold at the championships for Bolt .\\nJamaica double up in women's 4x100m relay .\n",
       "2    The employee in agency's Kansas City office is among hundreds of \"virtual\" workers .\\nThe employee's travel to and from the mainland U.S. last year cost more than $24,000 .\\nThe telecommuting prog...\n",
       "3    NEW: A Canadian doctor says she was part of a team examining Harry Burkhart in 2010 .\\nNEW: Diagnosis: \"autism, severe anxiety, post-traumatic stress disorder and depression\"\\nBurkhart is also sus...\n",
       "4    Another arrest made in gang rape outside California school .\\nInvestigators say up to 20 people took part or stood and watched the assault .\\nFour suspects appeared in court Thursday; three wore b...\n",
       "5    Humanitarian groups expect 4,000 refugees in one camp, a U.N. official says .\\nOthers have fled across the border to U.N. camps in Liberia, he says .\\nThis follows attacks that killed 7 U.N. peace...\n",
       "6    NEW: 4 groups announce legal challenge in Phoenix .\\nAmerican Civil Liberties Union, ACLU of Arizona, National Immigration Law Center slam law .\\nMexican American Legal Defense and Educational Fun...\n",
       "7    Labor Day is the unofficial end of summer and the unofficial start to campaign season .\\nAs much as $3.4 billion could be spent on advertising for this midterm election .\\nHere are five must-follo...\n",
       "8    NEW: Autopsy indicates he had been dead for hours before police arrived .\\nYouTube video appears to show the activist bound and blindfolded .\\nThe activist and freelance journalist was from the Lo...\n",
       "9    The radio personality was taken to a hospital Sunday .\\nSpokesman for hospital says Casey Kasem being treated for wounds, blood pressure issues .\\nHe had been at a friend's home in Washington stat...\n",
       "Name: summary, dtype: object"
      ]
     },
     "execution_count": 93,
     "metadata": {},
     "output_type": "execute_result"
    }
   ],
   "source": [
    "df['summary'][:10]"
   ]
  },
  {
   "cell_type": "markdown",
   "id": "fc699379-4e0f-49ef-856c-5b8d60ea51f5",
   "metadata": {},
   "source": [
    "# Data Cleaning"
   ]
  },
  {
   "cell_type": "code",
   "execution_count": 94,
   "id": "3822ed55-491b-4ced-99b8-225d5489b3fa",
   "metadata": {},
   "outputs": [],
   "source": [
    "#drop the duplicate and na values from the records\n",
    "\n",
    "df.drop_duplicates(subset=['text'],inplace=True)\n",
    "df.dropna(axis=0,inplace=True) #dropping na\n",
    "input_data = df.loc[:,'text']\n",
    "target_data = df.loc[:,'summary']\n",
    "target_data.replace('', np.nan, inplace=True)"
   ]
  },
  {
   "cell_type": "code",
   "execution_count": 95,
   "id": "856cb084-cad0-4a97-864c-8e3c67a32862",
   "metadata": {},
   "outputs": [
    {
     "name": "stdout",
     "output_type": "stream",
     "text": [
      "<class 'pandas.core.frame.DataFrame'>\n",
      "Int64Index: 9948 entries, 0 to 9999\n",
      "Data columns (total 2 columns):\n",
      " #   Column   Non-Null Count  Dtype \n",
      "---  ------   --------------  ----- \n",
      " 0   text     9948 non-null   object\n",
      " 1   summary  9948 non-null   object\n",
      "dtypes: object(2)\n",
      "memory usage: 233.2+ KB\n"
     ]
    }
   ],
   "source": [
    "df.info()"
   ]
  },
  {
   "cell_type": "code",
   "execution_count": 96,
   "id": "2f5088bb-befa-4819-8a4d-32b77ea919bb",
   "metadata": {},
   "outputs": [],
   "source": [
    "# A list of contractions ~search \"expanding english contractions in python\" in StackOverflow.\n",
    "contractions = { \n",
    "\"ain't\": \"am not\",\n",
    "\"aren't\": \"are not\",\n",
    "\"can't\": \"cannot\",\n",
    "\"can't've\": \"cannot have\",\n",
    "\"'cause\": \"because\",\n",
    "\"could've\": \"could have\",\n",
    "\"couldn't\": \"could not\",\n",
    "\"couldn't've\": \"could not have\",\n",
    "\"didn't\": \"did not\",\n",
    "\"doesn't\": \"does not\",\n",
    "\"don't\": \"do not\",\n",
    "\"hadn't\": \"had not\",\n",
    "\"hadn't've\": \"had not have\",\n",
    "\"hasn't\": \"has not\",\n",
    "\"haven't\": \"have not\",\n",
    "\"he'd\": \"he would\",\n",
    "\"he'd've\": \"he would have\",\n",
    "\"he'll\": \"he will\",\n",
    "\"he's\": \"he is\",\n",
    "\"how'd\": \"how did\",\n",
    "\"how'll\": \"how will\",\n",
    "\"how's\": \"how is\",\n",
    "\"i'd\": \"i would\",\n",
    "\"i'll\": \"i will\",\n",
    "\"i'm\": \"i am\",\n",
    "\"i've\": \"i have\",\n",
    "\"isn't\": \"is not\",\n",
    "\"it'd\": \"it would\",\n",
    "\"it'll\": \"it will\",\n",
    "\"it's\": \"it is\",\n",
    "\"let's\": \"let us\",\n",
    "\"ma'am\": \"madam\",\n",
    "\"mayn't\": \"may not\",\n",
    "\"might've\": \"might have\",\n",
    "\"mightn't\": \"might not\",\n",
    "\"must've\": \"must have\",\n",
    "\"mustn't\": \"must not\",\n",
    "\"needn't\": \"need not\",\n",
    "\"oughtn't\": \"ought not\",\n",
    "\"shan't\": \"shall not\",\n",
    "\"sha'n't\": \"shall not\",\n",
    "\"she'd\": \"she would\",\n",
    "\"she'll\": \"she will\",\n",
    "\"she's\": \"she is\",\n",
    "\"should've\": \"should have\",\n",
    "\"shouldn't\": \"should not\",\n",
    "\"that'd\": \"that would\",\n",
    "\"that's\": \"that is\",\n",
    "\"there'd\": \"there had\",\n",
    "\"there's\": \"there is\",\n",
    "\"they'd\": \"they would\",\n",
    "\"they'll\": \"they will\",\n",
    "\"they're\": \"they are\",\n",
    "\"they've\": \"they have\",\n",
    "\"wasn't\": \"was not\",\n",
    "\"we'd\": \"we would\",\n",
    "\"we'll\": \"we will\",\n",
    "\"we're\": \"we are\",\n",
    "\"we've\": \"we have\",\n",
    "\"weren't\": \"were not\",\n",
    "\"what'll\": \"what will\",\n",
    "\"what're\": \"what are\",\n",
    "\"what's\": \"what is\",\n",
    "\"what've\": \"what have\",\n",
    "\"where'd\": \"where did\",\n",
    "\"where's\": \"where is\",\n",
    "\"who'll\": \"who will\",\n",
    "\"who's\": \"who is\",\n",
    "\"won't\": \"will not\",\n",
    "\"wouldn't\": \"would not\",\n",
    "\"you'd\": \"you would\",\n",
    "\"you'll\": \"you will\",\n",
    "\"you're\": \"you are\"\n",
    "}"
   ]
  },
  {
   "cell_type": "code",
   "execution_count": 97,
   "id": "f3fbd877-dfb8-47f7-8d10-3bb7b8445f1c",
   "metadata": {},
   "outputs": [],
   "source": [
    "import re\n",
    "def clean_text(text, remove_stopwords = True):    \n",
    "    # Convert words to lower case\n",
    "    text = text.lower()    \n",
    "    # Replace contractions with their longer forms \n",
    "    if True:\n",
    "        text = text.split()\n",
    "        new_text = []\n",
    "        for word in text:\n",
    "            if word in contractions:\n",
    "                new_text.append(contractions[word])\n",
    "            else:\n",
    "                new_text.append(word)\n",
    "        text = \" \".join(new_text)\n",
    "    # Format words and remove unwanted characters\n",
    "    text = re.sub(r'https?:\\/\\/.*[\\r\\n]*', '', text, flags=re.MULTILINE)\n",
    "    text = re.sub(r'\\<a href', ' ', text)\n",
    "    text = re.sub(r'&amp;', '', text) \n",
    "    text = re.sub(r'[_\"\\-;%()|+&=*%.,!?:#$@\\[\\]/]', ' ', text)\n",
    "    text = re.sub(r'<br />', ' ', text)\n",
    "    text = re.sub(r'\\'', '', text)    \n",
    "    # Optionally, remove stop words\n",
    "    if remove_stopwords:\n",
    "        text = text.split()\n",
    "        stops = set(stopwords.words(\"english\"))\n",
    "        text = [w for w in text if not w in stops]\n",
    "        text = \" \".join(text)\n",
    "    return text"
   ]
  },
  {
   "cell_type": "code",
   "execution_count": 98,
   "id": "71a6c637-a2d0-442d-847f-ae26a4be5fec",
   "metadata": {},
   "outputs": [],
   "source": [
    "input_texts=[]  # Text column\n",
    "target_texts=[] # summary column\n",
    "input_words=[]\n",
    "target_words=[]"
   ]
  },
  {
   "cell_type": "code",
   "execution_count": 99,
   "id": "2d0b1bc1-1020-4447-b3eb-618f62a650c5",
   "metadata": {},
   "outputs": [],
   "source": [
    "#pass the input records and target records\n",
    "for in_txt,tr_txt in zip(input_data,target_data):\n",
    "  in_words= clean_text(in_txt,\"inputs\")\n",
    "  input_texts+= [''.join(in_words)]\n",
    "  input_words+= in_words\n",
    "  # 'sos' -> start of sentence , 'eos'-> end of sentence\n",
    "  tr_words= clean_text(\"sos \"+tr_txt+\" eos\",\"target\")\n",
    "  target_texts+= [''.join(tr_words)]\n",
    "  target_words+= tr_words"
   ]
  },
  {
   "cell_type": "code",
   "execution_count": 100,
   "id": "5fa44390-c9ab-4c6c-aeca-d5312ea7951c",
   "metadata": {},
   "outputs": [
    {
     "name": "stdout",
     "output_type": "stream",
     "text": [
      "number of input words :  136\n",
      "number of target words :  59\n",
      "maximum input length :  1724\n",
      "maximum target length :  230\n"
     ]
    }
   ],
   "source": [
    "#store only unique words from input and target list of words\n",
    "input_words = sorted(list(set(input_words)))\n",
    "target_words = sorted(list(set(target_words)))\n",
    "num_in_words = len(input_words) #total number of input words\n",
    "num_tr_words = len(target_words) #total number of target words\n",
    " \n",
    "#get the length of the input and target texts which appears most often  \n",
    "max_in_len = mode([len(i) for i in input_texts])\n",
    "max_tr_len = mode([len(i) for i in target_texts])\n",
    " \n",
    "print(\"number of input words : \",num_in_words)\n",
    "print(\"number of target words : \",num_tr_words)\n",
    "print(\"maximum input length : \",max_in_len)\n",
    "print(\"maximum target length : \",max_tr_len)"
   ]
  },
  {
   "cell_type": "code",
   "execution_count": 101,
   "id": "a6dcfdbc-7884-4b1c-b0f1-5d89b942c3d0",
   "metadata": {},
   "outputs": [
    {
     "data": {
      "text/plain": [
       "('los angeles cnn medical doctor vancouver british columbia said thursday california arson suspect harry burkhart suffered severe mental illness 2010 examined part team doctors dr blaga stancheva family physician specialist obstetrics said burkhart mother dorothee patients vancouver applying refugee status canada asked diagnose treat harry support claim explaining unable show small claims court case stancheva told cnn phone interview declined cite case burkharts role stancheva said doctors including psychiatrist diagnosed burkhart autism severe anxiety post traumatic stress disorder depression diagnosis spelled letter wrote small claims court case stancheva said stancheva citing doctor patient confidentiality would elaborate would identify psychiatrist involved diagnosis burkhart 24 year old german national charged 37 counts arson following string 52 fires los angeles charges connection arson fires 12 locations scattered hollywood west hollywood sherman oaks according authorities stancheva said refugee applications burkhart mother denied canadian government seen burkhart since early march 2010 shocked dismayed happened los angeles appears treated depression said burkhart court wednesday preliminary hearing prosecutors said rage americans triggered mothers arrest last week motivated campaign terror dozens fires hollywood nearby communities burkhart kept eyes closed remained limp hearing requiring sheriffs deputies hold district attorney called courtroom behavior bizarre defendant engaged protracted campaign set people believe upwards 52 arson fires essentially amounts campaign terror community los angeles county deputy district attorney sean carney said people believe engaged conduct hatred americans carney told court burkhart would flee country allowed jail bond los angeles superior court judge upinder kalra said choice set bail go free awaiting trial burkhart must post 2 85 million bond surrender german passport revealed burkhart also investigation arson fraud relation fire neukirchen near frankfurt germany worst arson sprees citys history began last friday morning car fire hollywood spread apartments garage new fires happened since burkhart arrested monday los angeles district attorney steve cooley said one hurt fires property damage costs likely reach 3 million authorities said cooley called almost attempted murder people sleeping apartments burkhart allegedly set cars fire incendiary devices placed engines criminal complaint filed wednesday also alleged fires caused use device designed accelerate fire cooley said found true allegation could mean additional custody time defendant numerous instances cars parked carports resulting fires spreading adjacent occupied apartment buildings sworn affidavit los angeles arson investigator said vast majority fires occurred late night occupants apartment buildings asleep investigator edward nordskogs affidavit detailed burkharts behavior day fires began federal courtroom extradition proceedings mother audience defendant burkhart began yelling angry manner f k americans defendant also attempted communicate mother custody shortly thereafter defendant ejected courtroom deputy u marshals nordskog wrote dorothee burkhart arrested day international arrest warrant issued district court frankfurt germany said federal court spokesman gunther meilinger 53 year old german woman wanted 16 counts fraud three counts embezzlement said charges include allegation failed pay breast enhancement operation performed 2004 meilinger said german charges however stem phony real estate deals dorothee burkhart allegedly conducted 2000 2006 opinion defendants criminal spree motivated rage americans setting fires defendant intended harm terrorize many residents city county los angeles possible nordskog wrote search burkharts hollywood apartment found newspaper clippings los angeles fires articles germany reporting similar car fires frankfurt germany september 2011 investigator said opinion based experience highly likely defendant history setting arson fires germany came united states nordskog wrote burkharts mother scheduled another extradition hearing friday due back court arraignment january 24 meanwhile burkharts housed los angeles jail',\n",
       " 'sos new canadian doctor says part team examining harry burkhart 2010 new diagnosis autism severe anxiety post traumatic stress disorder depression burkhart also suspected german arson probe officials say prosecutors believe german national set string fires los angeles eos')"
      ]
     },
     "execution_count": 101,
     "metadata": {},
     "output_type": "execute_result"
    }
   ],
   "source": [
    "input_texts[3],target_texts[3]"
   ]
  },
  {
   "cell_type": "code",
   "execution_count": 102,
   "id": "a5f8f25f-0b37-4267-8392-459d6aaa9d82",
   "metadata": {},
   "outputs": [],
   "source": [
    "#split the input and target text into 80:20 ratio or testing size of 20%.\n",
    "x_train,x_test,y_train,y_test=train_test_split(input_texts,target_texts,test_size=0.2,random_state=123) "
   ]
  },
  {
   "cell_type": "code",
   "execution_count": 103,
   "id": "41ba103b-55a5-48ca-82db-0c932c143ee7",
   "metadata": {},
   "outputs": [],
   "source": [
    "#train the tokenizer with all the words\n",
    "in_tokenizer = Tokenizer()\n",
    "in_tokenizer.fit_on_texts(x_train)\n",
    "tr_tokenizer = Tokenizer()\n",
    "tr_tokenizer.fit_on_texts(y_train)\n",
    " \n",
    "#convert text into sequence of integers\n",
    "#where the integer will be the index of that word\n",
    "x_train= in_tokenizer.texts_to_sequences(x_train) \n",
    "y_train= tr_tokenizer.texts_to_sequences(y_train)"
   ]
  },
  {
   "cell_type": "code",
   "execution_count": 104,
   "id": "6a819b2b-991b-4a59-bbb3-b8e483bd64b3",
   "metadata": {},
   "outputs": [],
   "source": [
    "#pad array of 0's if the length is less than the maximum length \n",
    "en_in_data= pad_sequences(x_train,  maxlen=max_in_len, padding='post') \n",
    "dec_data= pad_sequences(y_train,  maxlen=max_tr_len, padding='post')\n",
    "\n",
    "#decoder input data will not include the last word i.e. 'eos' in decoder input data\n",
    "dec_in_data = dec_data[:,:-1]\n",
    "#decoder target data will be one time step ahead as it will not include\n",
    "# the first word i.e 'sos'\n",
    "dec_tr_data = dec_data.reshape(len(dec_data),max_tr_len,1)[:,1:]"
   ]
  },
  {
   "cell_type": "markdown",
   "id": "a18ce76d-b63b-47f0-8703-08d39d72d527",
   "metadata": {},
   "source": [
    "# Model Building"
   ]
  },
  {
   "cell_type": "code",
   "execution_count": 21,
   "id": "35b693d3-f0de-410a-ad10-3a2727a5cf33",
   "metadata": {},
   "outputs": [
    {
     "name": "stdout",
     "output_type": "stream",
     "text": [
      "Metal device set to: Apple M1\n"
     ]
    },
    {
     "name": "stderr",
     "output_type": "stream",
     "text": [
      "2022-04-13 02:33:09.448324: I tensorflow/core/common_runtime/pluggable_device/pluggable_device_factory.cc:305] Could not identify NUMA node of platform GPU ID 0, defaulting to 0. Your kernel may not have been built with NUMA support.\n",
      "2022-04-13 02:33:09.448404: I tensorflow/core/common_runtime/pluggable_device/pluggable_device_factory.cc:271] Created TensorFlow device (/job:localhost/replica:0/task:0/device:GPU:0 with 0 MB memory) -> physical PluggableDevice (device: 0, name: METAL, pci bus id: <undefined>)\n"
     ]
    }
   ],
   "source": [
    "latent_dim = 500\n",
    " \n",
    "#create input object of total number of encoder words\n",
    "en_inputs = Input(shape=(max_in_len,)) \n",
    "en_embedding = Embedding(num_in_words+1, latent_dim)(en_inputs) "
   ]
  },
  {
   "cell_type": "code",
   "execution_count": 22,
   "id": "0efa23eb-25b6-4431-9ce4-9637f22c539b",
   "metadata": {},
   "outputs": [],
   "source": [
    "#encoder\n",
    "#create 3 stacked LSTM layer with the shape of hidden dimension for text summarizer using deep learning\n",
    "#LSTM 1\n",
    "en_lstm1= LSTM(latent_dim, return_state=True, return_sequences=True) \n",
    "en_outputs1, state_h1, state_c1= en_lstm1(en_embedding) \n",
    " \n",
    "#LSTM2\n",
    "en_lstm2= LSTM(latent_dim, return_state=True, return_sequences=True) \n",
    "en_outputs2, state_h2, state_c2= en_lstm2(en_outputs1) \n",
    " \n",
    "#LSTM3\n",
    "en_lstm3= LSTM(latent_dim,return_sequences=True,return_state=True)\n",
    "en_outputs3 , state_h3 , state_c3= en_lstm3(en_outputs2)\n",
    " \n",
    "#encoder states\n",
    "en_states= [state_h3, state_c3]\n",
    "\n",
    "# Decoder. \n",
    "dec_inputs = Input(shape=(None,)) \n",
    "dec_emb_layer = Embedding(num_tr_words+1, latent_dim) \n",
    "dec_embedding = dec_emb_layer(dec_inputs) \n",
    " \n",
    "#initialize decoder's LSTM layer with the output states of encoder\n",
    "dec_lstm = LSTM(latent_dim, return_sequences=True, return_state=True)\n",
    "dec_outputs, *_ = dec_lstm(dec_embedding,initial_state=en_states) \n",
    "\n",
    "#Attention layer\n",
    "attention =Attention()\n",
    "attn_out = attention([dec_outputs,en_outputs3])\n",
    " \n",
    "#Concatenate the attention output with the decoder outputs\n",
    "merge=Concatenate(axis=-1, name='concat_layer1')([dec_outputs,attn_out])\n",
    "\n",
    "#Dense layer (output layer)\n",
    "dec_dense = Dense(num_tr_words+1, activation='softmax') \n",
    "dec_outputs = dec_dense(merge)"
   ]
  },
  {
   "cell_type": "code",
   "execution_count": 23,
   "id": "eb745731-f385-4829-8c95-0c0fdb8d47ed",
   "metadata": {},
   "outputs": [
    {
     "name": "stdout",
     "output_type": "stream",
     "text": [
      "Model: \"model\"\n",
      "__________________________________________________________________________________________________\n",
      " Layer (type)                   Output Shape         Param #     Connected to                     \n",
      "==================================================================================================\n",
      " input_1 (InputLayer)           [(None, 1724)]       0           []                               \n",
      "                                                                                                  \n",
      " embedding (Embedding)          (None, 1724, 500)    68500       ['input_1[0][0]']                \n",
      "                                                                                                  \n",
      " lstm (LSTM)                    [(None, 1724, 500),  2002000     ['embedding[0][0]']              \n",
      "                                 (None, 500),                                                     \n",
      "                                 (None, 500)]                                                     \n",
      "                                                                                                  \n",
      " input_2 (InputLayer)           [(None, None)]       0           []                               \n",
      "                                                                                                  \n",
      " lstm_1 (LSTM)                  [(None, 1724, 500),  2002000     ['lstm[0][0]']                   \n",
      "                                 (None, 500),                                                     \n",
      "                                 (None, 500)]                                                     \n",
      "                                                                                                  \n",
      " embedding_1 (Embedding)        (None, None, 500)    30000       ['input_2[0][0]']                \n",
      "                                                                                                  \n",
      " lstm_2 (LSTM)                  [(None, 1724, 500),  2002000     ['lstm_1[0][0]']                 \n",
      "                                 (None, 500),                                                     \n",
      "                                 (None, 500)]                                                     \n",
      "                                                                                                  \n",
      " lstm_3 (LSTM)                  [(None, None, 500),  2002000     ['embedding_1[0][0]',            \n",
      "                                 (None, 500),                     'lstm_2[0][1]',                 \n",
      "                                 (None, 500)]                     'lstm_2[0][2]']                 \n",
      "                                                                                                  \n",
      " attention (Attention)          (None, None, 500)    0           ['lstm_3[0][0]',                 \n",
      "                                                                  'lstm_2[0][0]']                 \n",
      "                                                                                                  \n",
      " concat_layer1 (Concatenate)    (None, None, 1000)   0           ['lstm_3[0][0]',                 \n",
      "                                                                  'attention[0][0]']              \n",
      "                                                                                                  \n",
      " dense (Dense)                  (None, None, 60)     60060       ['concat_layer1[0][0]']          \n",
      "                                                                                                  \n",
      "==================================================================================================\n",
      "Total params: 8,166,560\n",
      "Trainable params: 8,166,560\n",
      "Non-trainable params: 0\n",
      "__________________________________________________________________________________________________\n"
     ]
    }
   ],
   "source": [
    "#Model class and model summary for text Summarizer\n",
    "model = Model([en_inputs, dec_inputs], dec_outputs) \n",
    "model.summary()"
   ]
  },
  {
   "cell_type": "code",
   "execution_count": 24,
   "id": "29377883-f72a-4d65-b1f3-7ee9c39d669f",
   "metadata": {},
   "outputs": [
    {
     "data": {
      "image/png": "[encoded data removed]",
      "text/plain": [
       "<IPython.core.display.Image object>"
      ]
     },
     "execution_count": 24,
     "metadata": {},
     "output_type": "execute_result"
    }
   ],
   "source": [
    "plot_model(model, to_file='model_plot.png', show_shapes=True, show_layer_names=True)"
   ]
  },
  {
   "cell_type": "code",
   "execution_count": 25,
   "id": "53a275a3-7e5e-4193-8cae-820eae5ab16c",
   "metadata": {},
   "outputs": [],
   "source": [
    "model.compile(optimizer = \"rmsprop\",loss=\"sparse_categorical_crossentropy\", metrics=[\"accuracy\"], )"
   ]
  },
  {
   "cell_type": "code",
   "execution_count": 26,
   "id": "29abb342-95f6-4e13-aa73-41fce46dda43",
   "metadata": {},
   "outputs": [],
   "source": [
    "from keras import backend as K\n",
    "K.set_value(model.optimizer.learning_rate, 0.001)"
   ]
  },
  {
   "cell_type": "code",
   "execution_count": 27,
   "id": "5532ddd4-9331-4604-90b6-8861b1a19ca4",
   "metadata": {},
   "outputs": [
    {
     "name": "stdout",
     "output_type": "stream",
     "text": [
      "Epoch 1/10\n"
     ]
    },
    {
     "name": "stderr",
     "output_type": "stream",
     "text": [
      "2022-04-13 02:33:10.512539: W tensorflow/core/platform/profile_utils/cpu_utils.cc:128] Failed to get CPU frequency: 0 Hz\n",
      "2022-04-13 02:33:13.005030: I tensorflow/core/grappler/optimizers/custom_graph_optimizer_registry.cc:113] Plugin optimizer for device_type GPU is enabled.\n",
      "2022-04-13 02:33:13.160731: W tensorflow/core/grappler/costs/op_level_cost_estimator.cc:690] Error in PredictCost() for the op: op: \"Softmax\" attr { key: \"T\" value { type: DT_FLOAT } } inputs { dtype: DT_FLOAT shape { unknown_rank: true } } device { type: \"GPU\" } outputs { dtype: DT_FLOAT shape { unknown_rank: true } }\n",
      "2022-04-13 02:33:13.463209: I tensorflow/core/grappler/optimizers/custom_graph_optimizer_registry.cc:113] Plugin optimizer for device_type GPU is enabled.\n",
      "2022-04-13 02:33:19.313654: I tensorflow/core/grappler/optimizers/custom_graph_optimizer_registry.cc:113] Plugin optimizer for device_type GPU is enabled.\n",
      "2022-04-13 02:33:25.254769: I tensorflow/core/grappler/optimizers/custom_graph_optimizer_registry.cc:113] Plugin optimizer for device_type GPU is enabled.\n",
      "2022-04-13 02:33:31.107367: I tensorflow/core/grappler/optimizers/custom_graph_optimizer_registry.cc:113] Plugin optimizer for device_type GPU is enabled.\n",
      "2022-04-13 02:33:31.470252: I tensorflow/core/grappler/optimizers/custom_graph_optimizer_registry.cc:113] Plugin optimizer for device_type GPU is enabled.\n",
      "2022-04-13 02:33:32.082104: I tensorflow/core/grappler/optimizers/custom_graph_optimizer_registry.cc:113] Plugin optimizer for device_type GPU is enabled.\n",
      "2022-04-13 02:33:52.623947: I tensorflow/core/grappler/optimizers/custom_graph_optimizer_registry.cc:113] Plugin optimizer for device_type GPU is enabled.\n",
      "2022-04-13 02:34:13.164464: I tensorflow/core/grappler/optimizers/custom_graph_optimizer_registry.cc:113] Plugin optimizer for device_type GPU is enabled.\n"
     ]
    },
    {
     "name": "stdout",
     "output_type": "stream",
     "text": [
      "266/266 [==============================] - ETA: 0s - loss: 0.1150 - accuracy: 0.8666"
     ]
    },
    {
     "name": "stderr",
     "output_type": "stream",
     "text": [
      "2022-04-13 02:51:48.450930: I tensorflow/core/grappler/optimizers/custom_graph_optimizer_registry.cc:113] Plugin optimizer for device_type GPU is enabled.\n",
      "2022-04-13 02:51:48.505078: W tensorflow/core/grappler/costs/op_level_cost_estimator.cc:690] Error in PredictCost() for the op: op: \"Softmax\" attr { key: \"T\" value { type: DT_FLOAT } } inputs { dtype: DT_FLOAT shape { unknown_rank: true } } device { type: \"GPU\" } outputs { dtype: DT_FLOAT shape { unknown_rank: true } }\n",
      "2022-04-13 02:51:48.591845: I tensorflow/core/grappler/optimizers/custom_graph_optimizer_registry.cc:113] Plugin optimizer for device_type GPU is enabled.\n",
      "2022-04-13 02:51:54.461567: I tensorflow/core/grappler/optimizers/custom_graph_optimizer_registry.cc:113] Plugin optimizer for device_type GPU is enabled.\n",
      "2022-04-13 02:52:00.376385: I tensorflow/core/grappler/optimizers/custom_graph_optimizer_registry.cc:113] Plugin optimizer for device_type GPU is enabled.\n",
      "2022-04-13 02:52:06.279694: I tensorflow/core/grappler/optimizers/custom_graph_optimizer_registry.cc:113] Plugin optimizer for device_type GPU is enabled.\n"
     ]
    },
    {
     "name": "stdout",
     "output_type": "stream",
     "text": [
      "266/266 [==============================] - 1237s 4s/step - loss: 0.1150 - accuracy: 0.8666 - val_loss: 0.0806 - val_accuracy: 0.8714\n",
      "Epoch 2/10\n",
      "266/266 [==============================] - 1051s 4s/step - loss: 0.0827 - accuracy: 0.8701 - val_loss: 0.0808 - val_accuracy: 0.8714\n",
      "Epoch 3/10\n",
      "266/266 [==============================] - 1053s 4s/step - loss: 0.0948 - accuracy: 0.8703 - val_loss: 0.0977 - val_accuracy: 0.8712\n",
      "Epoch 4/10\n",
      "266/266 [==============================] - 1052s 4s/step - loss: 0.0841 - accuracy: 0.8707 - val_loss: 0.0751 - val_accuracy: 0.8722\n",
      "Epoch 5/10\n",
      "266/266 [==============================] - 1053s 4s/step - loss: 0.0753 - accuracy: 0.8708 - val_loss: 0.0751 - val_accuracy: 0.8722\n",
      "Epoch 6/10\n",
      "266/266 [==============================] - 1052s 4s/step - loss: 0.0795 - accuracy: 0.8705 - val_loss: 0.0777 - val_accuracy: 0.8720\n",
      "Epoch 7/10\n",
      "266/266 [==============================] - 1052s 4s/step - loss: 0.0799 - accuracy: 0.8708 - val_loss: 0.0792 - val_accuracy: 0.8722\n",
      "Epoch 8/10\n",
      "266/266 [==============================] - 1053s 4s/step - loss: 0.0770 - accuracy: 0.8708 - val_loss: 0.0761 - val_accuracy: 0.8722\n",
      "Epoch 9/10\n",
      "266/266 [==============================] - 1059s 4s/step - loss: 0.0775 - accuracy: 0.8708 - val_loss: 0.0776 - val_accuracy: 0.8722\n",
      "Epoch 10/10\n",
      "266/266 [==============================] - 1044s 4s/step - loss: 0.0775 - accuracy: 0.8708 - val_loss: 0.0754 - val_accuracy: 0.8722\n"
     ]
    }
   ],
   "source": [
    "history = model.fit([en_in_data, dec_in_data],dec_tr_data,batch_size=24,epochs=10,validation_split=0.2,verbose=1)"
   ]
  },
  {
   "cell_type": "code",
   "execution_count": 28,
   "id": "b5a748ac-77d7-4b03-915b-4d5576d660f6",
   "metadata": {},
   "outputs": [
    {
     "name": "stdout",
     "output_type": "stream",
     "text": [
      "Model Saved!\n"
     ]
    }
   ],
   "source": [
    "# save model\n",
    "model.save('text_summarizer.h5')\n",
    "print('Model Saved!')"
   ]
  },
  {
   "cell_type": "code",
   "execution_count": 29,
   "id": "ade23511-4b8c-4d53-a994-1eff5b90f8e6",
   "metadata": {},
   "outputs": [
    {
     "data": {
      "text/plain": [
       "['summary_tokenizer.pkl']"
      ]
     },
     "execution_count": 29,
     "metadata": {},
     "output_type": "execute_result"
    }
   ],
   "source": [
    "import joblib\n",
    "\n",
    "joblib.dump(in_tokenizer,'text_tokenizer.pkl')\n",
    "joblib.dump(tr_tokenizer,'summary_tokenizer.pkl')"
   ]
  },
  {
   "cell_type": "code",
   "execution_count": 30,
   "id": "0912763c-318c-45d0-95db-87c8a3a0c4ca",
   "metadata": {},
   "outputs": [
    {
     "data": {
      "image/png": "[encoded data removed]",
      "text/plain": [
       "<Figure size 432x288 with 1 Axes>"
      ]
     },
     "metadata": {
      "needs_background": "light"
     },
     "output_type": "display_data"
    }
   ],
   "source": [
    "from matplotlib import pyplot\n",
    "pyplot.plot(history.history['loss'], label='train')\n",
    "pyplot.plot(history.history['val_loss'], label='test')\n",
    "pyplot.legend()\n",
    "pyplot.show()"
   ]
  },
  {
   "cell_type": "code",
   "execution_count": 76,
   "id": "bef25f09-6be3-4c76-8086-8f518eac3010",
   "metadata": {},
   "outputs": [
    {
     "data": {
      "text/plain": [
       "{'loss': [0.11502010375261307,\n",
       "  0.08267617970705032,\n",
       "  0.09478013217449188,\n",
       "  0.08409368246793747,\n",
       "  0.07525913417339325,\n",
       "  0.07953823357820511,\n",
       "  0.07989970594644547,\n",
       "  0.07699514180421829,\n",
       "  0.077499620616436,\n",
       "  0.07749653607606888],\n",
       " 'accuracy': [0.8666318655014038,\n",
       "  0.8701267838478088,\n",
       "  0.8703023791313171,\n",
       "  0.8706714510917664,\n",
       "  0.870755136013031,\n",
       "  0.8704848885536194,\n",
       "  0.8707537651062012,\n",
       "  0.8707983493804932,\n",
       "  0.8707983493804932,\n",
       "  0.8707764148712158],\n",
       " 'val_loss': [0.08059963583946228,\n",
       "  0.08077021688222885,\n",
       "  0.09766695648431778,\n",
       "  0.0751028060913086,\n",
       "  0.07508780062198639,\n",
       "  0.07765575498342514,\n",
       "  0.07918591797351837,\n",
       "  0.0761309415102005,\n",
       "  0.07755613327026367,\n",
       "  0.075434111058712],\n",
       " 'val_accuracy': [0.8714368939399719,\n",
       "  0.8714341521263123,\n",
       "  0.8711598515510559,\n",
       "  0.872218668460846,\n",
       "  0.872218668460846,\n",
       "  0.8719663023948669,\n",
       "  0.8721857070922852,\n",
       "  0.8722131848335266,\n",
       "  0.8722159266471863,\n",
       "  0.8722159266471863]}"
      ]
     },
     "execution_count": 76,
     "metadata": {},
     "output_type": "execute_result"
    }
   ],
   "source": [
    "history.history"
   ]
  },
  {
   "cell_type": "code",
   "execution_count": 77,
   "id": "be9a555e-1c56-499c-ab36-aa0fec61a20d",
   "metadata": {},
   "outputs": [
    {
     "name": "stdout",
     "output_type": "stream",
     "text": [
      "249/249 [==============================] - 365s 1s/step - loss: 0.1188 - accuracy: 0.8709\n",
      "test loss, test acc: [0.1187753900885582, 0.8709298968315125]\n"
     ]
    }
   ],
   "source": [
    "results = model.evaluate([en_in_data, dec_in_data],dec_tr_data)\n",
    "print(\"test loss, test acc:\", results)"
   ]
  },
  {
   "cell_type": "markdown",
   "id": "86a3975c-7d41-457e-918a-ee172933af61",
   "metadata": {},
   "source": [
    "# Inference"
   ]
  },
  {
   "cell_type": "code",
   "execution_count": 79,
   "id": "77cea07e-53dc-491a-ab48-888256ec3fa4",
   "metadata": {},
   "outputs": [],
   "source": [
    "import joblib\n",
    "\n",
    "# seq2seq model\n",
    "model = models.load_model(\"text_summarizer.h5\")\n",
    "# text tokenizer\n",
    "in_tokenizer = joblib.load('text_tokenizer.pkl')\n",
    "# summary tokenizer\n",
    "tr_tokenizer = joblib.load('summary_tokenizer.pkl')"
   ]
  },
  {
   "cell_type": "code",
   "execution_count": 80,
   "id": "7b4ba602-c783-48c0-b644-b7ca6cba1201",
   "metadata": {},
   "outputs": [],
   "source": [
    "# encoder inference\n",
    "latent_dim=500\n",
    "#construct encoder model from the output of 6 layer i.e.last LSTM layer\n",
    "en_outputs,state_h_enc,state_c_enc = model.layers[6].output\n",
    "en_states=[state_h_enc,state_c_enc]\n",
    "#add input and state from the layer.\n",
    "en_model = Model(model.input[0],[en_outputs]+en_states)\n",
    "\n",
    "#create Input object for hidden and cell state for decoder\n",
    "#shape of layer with hidden or latent dimension\n",
    "dec_state_input_h = Input(shape=(latent_dim,))\n",
    "dec_state_input_c = Input(shape=(latent_dim,))\n",
    "dec_hidden_state_input = Input(shape=(max_in_len,latent_dim))\n",
    " \n",
    "# Get the embeddings and input layer from the model\n",
    "dec_inputs = model.input[1]\n",
    "dec_emb_layer = model.layers[5]\n",
    "dec_lstm = model.layers[7]\n",
    "dec_embedding= dec_emb_layer(dec_inputs)\n",
    " \n",
    "#add input and initialize LSTM layer with encoder LSTM states.\n",
    "dec_outputs2, state_h2, state_c2 = dec_lstm(dec_embedding, initial_state=[dec_state_input_h,dec_state_input_c])\n",
    "\n",
    "#Attention layer\n",
    "attention = model.layers[8]\n",
    "attn_out2 = attention([dec_outputs2,dec_hidden_state_input])\n",
    " \n",
    "merge2 = Concatenate(axis=-1)([dec_outputs2, attn_out2])\n",
    "\n",
    "#Dense layer\n",
    "dec_dense = model.layers[10]\n",
    "dec_outputs2 = dec_dense(merge2)\n",
    " \n",
    "# Finally define the Model Class\n",
    "dec_model = Model([dec_inputs] + [dec_hidden_state_input,dec_state_input_h,dec_state_input_c],[dec_outputs2] + [state_h2, state_c2])"
   ]
  },
  {
   "cell_type": "code",
   "execution_count": 81,
   "id": "d13b6ccf-6e9c-401e-8a32-3382d3855213",
   "metadata": {
    "scrolled": true,
    "tags": []
   },
   "outputs": [],
   "source": [
    "#create a dictionary with a key as index and value as words.\n",
    "reverse_target_word_index = tr_tokenizer.index_word\n",
    "reverse_source_word_index = in_tokenizer.index_word\n",
    "target_word_index = tr_tokenizer.word_index"
   ]
  },
  {
   "cell_type": "code",
   "execution_count": 82,
   "id": "fc5cdec5-16c7-4c7f-b99d-c1f605d00ce2",
   "metadata": {},
   "outputs": [],
   "source": [
    "def decode_sequence(input_seq):\n",
    "    # get the encoder output and states by passing the input sequence\n",
    "    en_out, en_h, en_c = en_model.predict(input_seq)\n",
    "\n",
    "    # target sequence with inital word as 'sos'\n",
    "    target_seq = np.zeros((1, 1))\n",
    "    target_seq[0, 0] = target_word_index['sos']\n",
    "\n",
    "    # if the iteration reaches the end of text than it will be stop the iteration\n",
    "    stop_condition = False\n",
    "    # append every predicted word in decoded sentence\n",
    "    decoded_sentence = \"\"\n",
    "    while not stop_condition:\n",
    "        # get predicted output, hidden and cell state.\n",
    "        output_words, dec_h, dec_c = dec_model.predict([target_seq] + [en_out, en_h, en_c])\n",
    "\n",
    "        # get the index and from the dictionary get the word for that index.\n",
    "        word_index = np.argmax(output_words[0, -1, :])\n",
    "        text_word = reverse_target_word_index[word_index]\n",
    "        decoded_sentence += text_word + \" \"\n",
    "\n",
    "        # Exit condition: either hit max length\n",
    "        # or find a stop word or last word.\n",
    "        if text_word == \"eos\" or len(decoded_sentence) > max_tr_len:\n",
    "            stop_condition = True\n",
    "\n",
    "        # update target sequence to the current word index.\n",
    "        target_seq = np.zeros((1, 1))\n",
    "        target_seq[0, 0] = word_index\n",
    "        en_h, en_c = dec_h, dec_c\n",
    "\n",
    "    # return the deocded sentence\n",
    "    return decoded_sentence"
   ]
  },
  {
   "cell_type": "code",
   "execution_count": 109,
   "id": "ff5dbfc2-4807-47f4-be5a-b593b27fc10f",
   "metadata": {},
   "outputs": [
    {
     "name": "stdin",
     "output_type": "stream",
     "text": [
      "Enter :  'It\\'s official: U.S. President Barack Obama wants lawmakers to weigh in on whether to use military force in Syria. Obama sent a letter to the heads of the House and Senate on Saturday night, hours after announcing that he believes military action against Syrian targets is the right step to take over the alleged use of chemical weapons. The proposed legislation from Obama asks Congress to approve the use of military force \"to deter, disrupt, prevent and degrade the potential for future uses of chemical weapons or other weapons of mass destruction.\" It\\'s a step that is set to turn an international crisis into a fierce domestic political battle. There are key questions looming over the debate: What did U.N. weapons inspectors find in Syria? What happens if Congress votes no? And how will the Syrian government react? In a televised address from the White House Rose Garden earlier Saturday, the president said he would take his case to Congress, not because he has to -- but because he wants to. \"While I believe I have the authority to carry out this military action without specific congressional authorization, I know that the country will be stronger if we take this course, and our actions will be even more effective,\" he said. \"We should have this debate, because the issues are too big for business as usual.\" Obama said top congressional leaders had agreed to schedule a debate when the body returns to Washington on September 9. The Senate Foreign Relations Committee will hold a hearing over the matter on Tuesday, Sen. Robert Menendez said. Transcript: Read Obama\\'s full remarks . Syrian crisis: Latest developments . U.N. inspectors leave Syria . Obama\\'s remarks came shortly after U.N. inspectors left Syria, carrying evidence that will determine whether chemical weapons were used in an attack early last week in a Damascus suburb. \"The aim of the game here, the mandate, is very clear -- and that is to ascertain whether chemical weapons were used -- and not by whom,\" U.N. spokesman Martin Nesirky told reporters on Saturday. But who used the weapons in the reported toxic gas attack in a Damascus suburb on August 21 has been a key point of global debate over the Syrian crisis. Top U.S. officials have said there\\'s no doubt that the Syrian government was behind it, while Syrian officials have denied responsibility and blamed jihadists fighting with the rebels. British and U.S. intelligence reports say the attack involved chemical weapons, but U.N. officials have stressed the importance of waiting for an official report from inspectors. The inspectors will share their findings with U.N. Secretary-General Ban Ki-moon Ban, who has said he wants to wait until the U.N. team\\'s final report is completed before presenting it to the U.N. Security Council. The Organization for the Prohibition of Chemical Weapons, which nine of the inspectors belong to, said Saturday that it could take up to three weeks to analyze the evidence they collected. \"It needs time to be able to analyze the information and the samples,\" Nesirky said. He noted that Ban has repeatedly said there is no alternative to a political solution to the crisis in Syria, and that \"a military solution is not an option.\" Bergen:  Syria is a problem from hell for the U.S. Obama: \\'This menace must be confronted\\' Obama\\'s senior advisers have debated the next steps to take, and the president\\'s comments Saturday came amid mounting political pressure over the situation in Syria. Some U.S. lawmakers have called for immediate action while others warn of stepping into what could become a quagmire. Some global leaders have expressed support, but the British Parliament\\'s vote against military action earlier this week was a blow to Obama\\'s hopes of getting strong backing from key NATO allies. On Saturday, Obama proposed what he said would be a limited military action against Syrian President Bashar al-Assad. Any military attack would not be open-ended or include U.S. ground forces, he said. Syria\\'s alleged use of chemical weapons earlier this month \"is an assault on human dignity,\" the president said. A failure to respond with force, Obama argued,  \"could lead to escalating use of chemical weapons or their proliferation to terrorist groups who would do our people harm. In a world with many dangers, this menace must be confronted.\" Syria missile strike: What would happen next? Map: U.S. and allied assets around Syria . Obama decision came Friday night . On Friday night, the president made a last-minute decision to consult lawmakers. What will happen if they vote no? It\\'s unclear. A senior administration official told CNN that Obama has the authority to act without Congress -- even if Congress rejects his request for authorization to use force. Obama on Saturday continued to shore up support for a strike on the al-Assad government. He spoke by phone with French President Francois Hollande before his Rose Garden speech. \"The two leaders agreed that the international community must deliver a resolute message to the Assad regime -- and others who would consider using chemical weapons -- that these crimes are unacceptable and those who violate this international norm will be held accountable by the world,\" the White House said. Meanwhile, as uncertainty loomed over how Congress would weigh in, U.S. military officials said they remained at the ready. 5 key assertions: U.S. intelligence report on Syria . Syria: Who wants what after chemical weapons horror . Reactions mixed to Obama\\'s speech . A spokesman for the Syrian National Coalition said that the opposition group was disappointed by Obama\\'s announcement. \"Our fear now is that the lack of action could embolden the regime and they repeat his attacks in a more serious way,\" said spokesman Louay Safi. \"So we are quite concerned.\" Some members of Congress applauded Obama\\'s decision. House Speaker John Boehner, Majority Leader Eric Cantor, Majority Whip Kevin McCarthy and Conference Chair Cathy McMorris Rodgers issued a statement Saturday praising the president. \"Under the Constitution, the responsibility to declare war lies with Congress,\" the Republican lawmakers said. \"We are glad the president is seeking authorization for any military action in Syria in response to serious, substantive questions being raised.\" More than 160 legislators, including 63 of Obama\\'s fellow Democrats, had signed letters calling for either a vote or at least a \"full debate\" before any U.S. action. British Prime Minister David Cameron, whose own attempt to get lawmakers in his country to support military action in Syria failed earlier this week, responded to Obama\\'s speech in a Twitter post Saturday. \"I understand and support Barack Obama\\'s position on Syria,\" Cameron said. An influential lawmaker in Russia -- which has stood by Syria and criticized the United States -- had his own theory. \"The main reason Obama is turning to the Congress:  the military operation did not get enough support either in the world, among allies of the US or in the United States itself,\" Alexei Pushkov, chairman of the international-affairs committee of the Russian State Duma, said in a Twitter post. In the United States, scattered groups of anti-war protesters around the country took to the streets Saturday. \"Like many other Americans...we\\'re just tired of the United States getting involved and invading and bombing other countries,\" said Robin Rosecrans, who was among hundreds at a Los Angeles demonstration. What do Syria\\'s neighbors think? Why Russia, China, Iran stand by Assad . Syria\\'s government unfazed . After Obama\\'s speech, a military and political analyst on Syrian state TV said Obama is \"embarrassed\" that Russia opposes military action against Syria, is \"crying for help\" for someone to come to his rescue and is facing two defeats -- on the political and military levels. Syria\\'s prime minister appeared unfazed by the saber-rattling. \"The Syrian Army\\'s status is on maximum readiness and fingers are on the trigger to confront all challenges,\" Wael Nader al-Halqi said during a meeting with a delegation of Syrian expatriates from Italy, according to a banner on Syria State TV that was broadcast prior to Obama\\'s address. An anchor on Syrian state television said Obama \"appeared to be preparing for an aggression on Syria based on repeated lies.\" A top Syrian diplomat told the state television network that Obama was facing pressure to take military action from Israel, Turkey, some Arabs and right-wing extremists in the United States. \"I think he has done well by doing what Cameron did in terms of taking the issue to Parliament,\" said Bashar Jaafari, Syria\\'s ambassador to the United Nations. Both Obama and Cameron, he said, \"climbed to the top of the tree and don\\'t know how to get down.\" The Syrian government has denied that it used chemical weapons in the August 21 attack, saying that jihadists fighting with the rebels used them in an effort to turn global sentiments against it. British intelligence had put the number of people killed in the attack at more than 350. On Saturday, Obama said \"all told, well over 1,000 people were murdered.\" U.S. Secretary of State John Kerry on Friday cited a death toll of 1,429, more than 400 of them children. No explanation was offered for the discrepancy. Iran: U.S. military action in Syria would spark \\'disaster\\' Opinion: Why strikes in Syria are a bad idea .\n"
     ]
    },
    {
     "name": "stdout",
     "output_type": "stream",
     "text": [
      "\n",
      "Predicted summary:  syrian official obama climbed top tree doesnt know get obama sends letter heads house senate obama seek congressional approval military action syria aim determine whether cw used says u n spokesman \n"
     ]
    }
   ],
   "source": [
    "new_inp = input(\"Enter : \")\n",
    "\n",
    "new_inp = clean_text(new_inp)\n",
    "new_inp = ' '.join(new_inp)\n",
    "inp_x = in_tokenizer.texts_to_sequences([new_inp])\n",
    "inp_x = pad_sequences(inp_x, maxlen=max_in_len, padding='post')\n",
    "\n",
    "summary = decode_sequence(inp_x.reshape(1, max_in_len))\n",
    "summary = target_texts[0]\n",
    "summary = summary.replace('eos', '')\n",
    "summary = summary.replace('sos', '')\n",
    "print(\"\\nPredicted summary:\", summary);"
   ]
  },
  {
   "cell_type": "code",
   "execution_count": null,
   "id": "b76461a1-5432-417c-8c32-ec127ae3ed86",
   "metadata": {
    "scrolled": true,
    "tags": []
   },
   "outputs": [],
   "source": [
    "import coremltools as ct\n",
    "ml = ct.convert(model)"
   ]
  },
  {
   "cell_type": "code",
   "execution_count": null,
   "id": "32b4ac65-7c23-4651-a023-504780e9ae69",
   "metadata": {},
   "outputs": [],
   "source": []
  }
 ],
 "metadata": {
  "kernelspec": {
   "display_name": "Python 3 (ipykernel)",
   "language": "python",
   "name": "python3"
  },
  "language_info": {
   "codemirror_mode": {
    "name": "ipython",
    "version": 3
   },
   "file_extension": ".py",
   "mimetype": "text/x-python",
   "name": "python",
   "nbconvert_exporter": "python",
   "pygments_lexer": "ipython3",
   "version": "3.8.13"
  }
 },
 "nbformat": 4,
 "nbformat_minor": 5
}
